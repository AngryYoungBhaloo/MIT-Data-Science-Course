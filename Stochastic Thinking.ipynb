{
 "cells": [
  {
   "cell_type": "markdown",
   "metadata": {},
   "source": [
    "## Die Simulation"
   ]
  },
  {
   "cell_type": "code",
   "execution_count": 89,
   "metadata": {},
   "outputs": [],
   "source": [
    "import random"
   ]
  },
  {
   "cell_type": "code",
   "execution_count": 90,
   "metadata": {},
   "outputs": [],
   "source": [
    "def roll_die():\n",
    "    return random.choice(['1','2','3','4','5','6'])"
   ]
  },
  {
   "cell_type": "code",
   "execution_count": 57,
   "metadata": {},
   "outputs": [],
   "source": [
    "def run_dice_sim(goal, iterations):\n",
    "    favourable_outcomes = 0\n",
    "    for iteration in range(iterations):\n",
    "        outcome = ''\n",
    "        for roll in range(len(goal)):\n",
    "            outcome = outcome + roll_die()\n",
    "        if outcome == goal:\n",
    "            favourable_outcomes = favourable_outcomes + 1\n",
    "    estimated_prob = round(favourable_outcomes/iterations,8)\n",
    "    print(estimated_prob)"
   ]
  },
  {
   "cell_type": "code",
   "execution_count": 92,
   "metadata": {},
   "outputs": [
    {
     "name": "stdout",
     "output_type": "stream",
     "text": [
      "0.000102\n"
     ]
    }
   ],
   "source": [
    "run_dice_sim('11111', 1000000)"
   ]
  },
  {
   "cell_type": "code",
   "execution_count": null,
   "metadata": {},
   "outputs": [],
   "source": []
  },
  {
   "cell_type": "markdown",
   "metadata": {},
   "source": [
    "#### Two people same birthday"
   ]
  },
  {
   "cell_type": "code",
   "execution_count": 119,
   "metadata": {},
   "outputs": [],
   "source": [
    "def choose_birthday():\n",
    "    return random.choice(range(366))"
   ]
  },
  {
   "cell_type": "code",
   "execution_count": 156,
   "metadata": {},
   "outputs": [],
   "source": [
    "def atleast_two(people, iterations):\n",
    "    matches = 0\n",
    "    for iteration in range(iterations):\n",
    "        birthdays = []\n",
    "        for person in range(people):\n",
    "            birthday = choose_birthday()\n",
    "            if birthday in birthdays:\n",
    "                matches = matches + 1\n",
    "                break\n",
    "            birthdays.append(birthday)\n",
    "    estimated_prob = round(matches/iterations, 8)\n",
    "    return estimated_prob"
   ]
  },
  {
   "cell_type": "code",
   "execution_count": 163,
   "metadata": {},
   "outputs": [
    {
     "data": {
      "text/plain": [
       "1.0"
      ]
     },
     "execution_count": 163,
     "metadata": {},
     "output_type": "execute_result"
    }
   ],
   "source": [
    "atleast_two(75,1000)"
   ]
  },
  {
   "cell_type": "code",
   "execution_count": 159,
   "metadata": {},
   "outputs": [],
   "source": [
    "def same_date(people, common_birthdays):\n",
    "    matches = [0]*366\n",
    "    for person in range(people):\n",
    "        birthday = choose_birthday()\n",
    "        matches[birthday] = matches[birthday] + 1\n",
    "    max_matches = max(matches)\n",
    "    return max_matches >= common_birthdays"
   ]
  },
  {
   "cell_type": "code",
   "execution_count": 160,
   "metadata": {},
   "outputs": [
    {
     "data": {
      "text/plain": [
       "True"
      ]
     },
     "execution_count": 160,
     "metadata": {},
     "output_type": "execute_result"
    }
   ],
   "source": [
    "same_date(366, 2)"
   ]
  },
  {
   "cell_type": "code",
   "execution_count": 164,
   "metadata": {},
   "outputs": [],
   "source": [
    "def birthday_problem(people, common_birthdays, iterations):\n",
    "    number_true = 0\n",
    "    for trial in range(iterations):\n",
    "        if same_date(people, common_birthdays):\n",
    "            number_true = number_true + 1\n",
    "    prob_est = round(number_true/iterations, 8)\n",
    "    return prob_est"
   ]
  },
  {
   "cell_type": "code",
   "execution_count": 165,
   "metadata": {},
   "outputs": [
    {
     "data": {
      "text/plain": [
       "0.0137"
      ]
     },
     "execution_count": 165,
     "metadata": {},
     "output_type": "execute_result"
    }
   ],
   "source": [
    "birthday_problem(23, 3, 10000)"
   ]
  },
  {
   "cell_type": "code",
   "execution_count": 168,
   "metadata": {},
   "outputs": [],
   "source": [
    "def choose_birthday_weighted():\n",
    "    birthdays = 4*list(range(58)) + [58] + 4*list(range(59,366)) + 4*list(range(180,270))\n",
    "    return random.choice(birthdays)"
   ]
  },
  {
   "cell_type": "code",
   "execution_count": 169,
   "metadata": {},
   "outputs": [],
   "source": [
    "def same_date_weighted(people, common_birthdays):\n",
    "    matches = [0]*366\n",
    "    for person in range(people):\n",
    "        birthday = choose_birthday_weighted()\n",
    "        matches[birthday] = matches[birthday] + 1\n",
    "    max_matches = max(matches)\n",
    "    return max_matches >= common_birthdays"
   ]
  },
  {
   "cell_type": "code",
   "execution_count": 175,
   "metadata": {},
   "outputs": [],
   "source": [
    "def birthday_problem_weighted(people, common_birthdays, iterations):\n",
    "    number_true = 0\n",
    "    for trial in range(iterations):\n",
    "        if same_date_weighted(people, common_birthdays):\n",
    "            number_true = number_true + 1\n",
    "    prob_est = round(number_true/iterations, 8)\n",
    "    return prob_est"
   ]
  },
  {
   "cell_type": "code",
   "execution_count": 176,
   "metadata": {},
   "outputs": [
    {
     "data": {
      "text/plain": [
       "0.5397"
      ]
     },
     "execution_count": 176,
     "metadata": {},
     "output_type": "execute_result"
    }
   ],
   "source": [
    "birthday_problem_weighted(23, 2, 10000)"
   ]
  },
  {
   "cell_type": "code",
   "execution_count": null,
   "metadata": {},
   "outputs": [],
   "source": []
  }
 ],
 "metadata": {
  "kernelspec": {
   "display_name": "Python 3",
   "language": "python",
   "name": "python3"
  },
  "language_info": {
   "codemirror_mode": {
    "name": "ipython",
    "version": 3
   },
   "file_extension": ".py",
   "mimetype": "text/x-python",
   "name": "python",
   "nbconvert_exporter": "python",
   "pygments_lexer": "ipython3",
   "version": "3.8.3"
  }
 },
 "nbformat": 4,
 "nbformat_minor": 4
}
