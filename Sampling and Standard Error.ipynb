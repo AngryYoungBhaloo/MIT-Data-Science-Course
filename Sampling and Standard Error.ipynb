{
 "cells": [
  {
   "cell_type": "code",
   "execution_count": 1,
   "metadata": {},
   "outputs": [],
   "source": [
    "import pandas as pd"
   ]
  },
  {
   "cell_type": "code",
   "execution_count": 6,
   "metadata": {},
   "outputs": [],
   "source": [
    "import matplotlib.pyplot as plt"
   ]
  },
  {
   "cell_type": "code",
   "execution_count": 10,
   "metadata": {},
   "outputs": [],
   "source": [
    "import numpy as np"
   ]
  },
  {
   "cell_type": "code",
   "execution_count": 23,
   "metadata": {},
   "outputs": [],
   "source": [
    "import random"
   ]
  },
  {
   "cell_type": "code",
   "execution_count": 2,
   "metadata": {},
   "outputs": [],
   "source": [
    "df = pd.read_csv(r'C:\\Users\\Yogen\\Documents\\1. Data Science Courses\\2. MIT Data Science Course\\Lecture8\\temperatures.csv')"
   ]
  },
  {
   "cell_type": "code",
   "execution_count": 11,
   "metadata": {},
   "outputs": [
    {
     "data": {
      "text/html": [
       "<div>\n",
       "<style scoped>\n",
       "    .dataframe tbody tr th:only-of-type {\n",
       "        vertical-align: middle;\n",
       "    }\n",
       "\n",
       "    .dataframe tbody tr th {\n",
       "        vertical-align: top;\n",
       "    }\n",
       "\n",
       "    .dataframe thead th {\n",
       "        text-align: right;\n",
       "    }\n",
       "</style>\n",
       "<table border=\"1\" class=\"dataframe\">\n",
       "  <thead>\n",
       "    <tr style=\"text-align: right;\">\n",
       "      <th></th>\n",
       "      <th>CITY</th>\n",
       "      <th>TEMP</th>\n",
       "      <th>DATE</th>\n",
       "    </tr>\n",
       "  </thead>\n",
       "  <tbody>\n",
       "    <tr>\n",
       "      <th>0</th>\n",
       "      <td>SEATTLE</td>\n",
       "      <td>3.10</td>\n",
       "      <td>19610101</td>\n",
       "    </tr>\n",
       "    <tr>\n",
       "      <th>1</th>\n",
       "      <td>SEATTLE</td>\n",
       "      <td>0.55</td>\n",
       "      <td>19610102</td>\n",
       "    </tr>\n",
       "    <tr>\n",
       "      <th>2</th>\n",
       "      <td>SEATTLE</td>\n",
       "      <td>0.00</td>\n",
       "      <td>19610103</td>\n",
       "    </tr>\n",
       "    <tr>\n",
       "      <th>3</th>\n",
       "      <td>SEATTLE</td>\n",
       "      <td>4.45</td>\n",
       "      <td>19610104</td>\n",
       "    </tr>\n",
       "    <tr>\n",
       "      <th>4</th>\n",
       "      <td>SEATTLE</td>\n",
       "      <td>8.35</td>\n",
       "      <td>19610105</td>\n",
       "    </tr>\n",
       "  </tbody>\n",
       "</table>\n",
       "</div>"
      ],
      "text/plain": [
       "      CITY  TEMP      DATE\n",
       "0  SEATTLE  3.10  19610101\n",
       "1  SEATTLE  0.55  19610102\n",
       "2  SEATTLE  0.00  19610103\n",
       "3  SEATTLE  4.45  19610104\n",
       "4  SEATTLE  8.35  19610105"
      ]
     },
     "execution_count": 11,
     "metadata": {},
     "output_type": "execute_result"
    }
   ],
   "source": [
    "df.head()"
   ]
  },
  {
   "cell_type": "code",
   "execution_count": 12,
   "metadata": {},
   "outputs": [
    {
     "data": {
      "text/html": [
       "<div>\n",
       "<style scoped>\n",
       "    .dataframe tbody tr th:only-of-type {\n",
       "        vertical-align: middle;\n",
       "    }\n",
       "\n",
       "    .dataframe tbody tr th {\n",
       "        vertical-align: top;\n",
       "    }\n",
       "\n",
       "    .dataframe thead th {\n",
       "        text-align: right;\n",
       "    }\n",
       "</style>\n",
       "<table border=\"1\" class=\"dataframe\">\n",
       "  <thead>\n",
       "    <tr style=\"text-align: right;\">\n",
       "      <th></th>\n",
       "      <th>CITY</th>\n",
       "      <th>TEMP</th>\n",
       "      <th>DATE</th>\n",
       "    </tr>\n",
       "  </thead>\n",
       "  <tbody>\n",
       "    <tr>\n",
       "      <th>0</th>\n",
       "      <td>SEATTLE</td>\n",
       "      <td>3.10</td>\n",
       "      <td>19610101</td>\n",
       "    </tr>\n",
       "    <tr>\n",
       "      <th>20088</th>\n",
       "      <td>SAN DIEGO</td>\n",
       "      <td>12.25</td>\n",
       "      <td>19610101</td>\n",
       "    </tr>\n",
       "    <tr>\n",
       "      <th>40176</th>\n",
       "      <td>PHILADELPHIA</td>\n",
       "      <td>4.20</td>\n",
       "      <td>19610101</td>\n",
       "    </tr>\n",
       "    <tr>\n",
       "      <th>60264</th>\n",
       "      <td>PHOENIX</td>\n",
       "      <td>8.60</td>\n",
       "      <td>19610101</td>\n",
       "    </tr>\n",
       "    <tr>\n",
       "      <th>80352</th>\n",
       "      <td>LAS VEGAS</td>\n",
       "      <td>3.90</td>\n",
       "      <td>19610101</td>\n",
       "    </tr>\n",
       "    <tr>\n",
       "      <th>100440</th>\n",
       "      <td>CHARLOTTE</td>\n",
       "      <td>7.25</td>\n",
       "      <td>19610101</td>\n",
       "    </tr>\n",
       "    <tr>\n",
       "      <th>120528</th>\n",
       "      <td>DALLAS</td>\n",
       "      <td>4.15</td>\n",
       "      <td>19610101</td>\n",
       "    </tr>\n",
       "    <tr>\n",
       "      <th>140616</th>\n",
       "      <td>BALTIMORE</td>\n",
       "      <td>3.35</td>\n",
       "      <td>19610101</td>\n",
       "    </tr>\n",
       "    <tr>\n",
       "      <th>160704</th>\n",
       "      <td>SAN JUAN</td>\n",
       "      <td>24.45</td>\n",
       "      <td>19610101</td>\n",
       "    </tr>\n",
       "    <tr>\n",
       "      <th>180792</th>\n",
       "      <td>LOS ANGELES</td>\n",
       "      <td>11.10</td>\n",
       "      <td>19610101</td>\n",
       "    </tr>\n",
       "    <tr>\n",
       "      <th>200880</th>\n",
       "      <td>MIAMI</td>\n",
       "      <td>23.90</td>\n",
       "      <td>19610101</td>\n",
       "    </tr>\n",
       "    <tr>\n",
       "      <th>220968</th>\n",
       "      <td>NEW ORLEANS</td>\n",
       "      <td>7.20</td>\n",
       "      <td>19610101</td>\n",
       "    </tr>\n",
       "    <tr>\n",
       "      <th>241056</th>\n",
       "      <td>ALBUQUERQUE</td>\n",
       "      <td>-0.55</td>\n",
       "      <td>19610101</td>\n",
       "    </tr>\n",
       "    <tr>\n",
       "      <th>261144</th>\n",
       "      <td>PORTLAND</td>\n",
       "      <td>3.65</td>\n",
       "      <td>19610101</td>\n",
       "    </tr>\n",
       "    <tr>\n",
       "      <th>281232</th>\n",
       "      <td>BOSTON</td>\n",
       "      <td>1.95</td>\n",
       "      <td>19610101</td>\n",
       "    </tr>\n",
       "    <tr>\n",
       "      <th>301320</th>\n",
       "      <td>SAN FRANCISCO</td>\n",
       "      <td>8.05</td>\n",
       "      <td>19610101</td>\n",
       "    </tr>\n",
       "    <tr>\n",
       "      <th>321408</th>\n",
       "      <td>TAMPA</td>\n",
       "      <td>15.00</td>\n",
       "      <td>19610101</td>\n",
       "    </tr>\n",
       "    <tr>\n",
       "      <th>341496</th>\n",
       "      <td>NEW YORK</td>\n",
       "      <td>5.00</td>\n",
       "      <td>19610101</td>\n",
       "    </tr>\n",
       "    <tr>\n",
       "      <th>361584</th>\n",
       "      <td>DETROIT</td>\n",
       "      <td>-3.10</td>\n",
       "      <td>19610101</td>\n",
       "    </tr>\n",
       "    <tr>\n",
       "      <th>381672</th>\n",
       "      <td>ST LOUIS</td>\n",
       "      <td>-0.55</td>\n",
       "      <td>19610101</td>\n",
       "    </tr>\n",
       "    <tr>\n",
       "      <th>401760</th>\n",
       "      <td>CHICAGO</td>\n",
       "      <td>-4.75</td>\n",
       "      <td>19610101</td>\n",
       "    </tr>\n",
       "  </tbody>\n",
       "</table>\n",
       "</div>"
      ],
      "text/plain": [
       "                 CITY   TEMP      DATE\n",
       "0             SEATTLE   3.10  19610101\n",
       "20088       SAN DIEGO  12.25  19610101\n",
       "40176    PHILADELPHIA   4.20  19610101\n",
       "60264         PHOENIX   8.60  19610101\n",
       "80352       LAS VEGAS   3.90  19610101\n",
       "100440      CHARLOTTE   7.25  19610101\n",
       "120528         DALLAS   4.15  19610101\n",
       "140616      BALTIMORE   3.35  19610101\n",
       "160704       SAN JUAN  24.45  19610101\n",
       "180792    LOS ANGELES  11.10  19610101\n",
       "200880          MIAMI  23.90  19610101\n",
       "220968    NEW ORLEANS   7.20  19610101\n",
       "241056    ALBUQUERQUE  -0.55  19610101\n",
       "261144       PORTLAND   3.65  19610101\n",
       "281232         BOSTON   1.95  19610101\n",
       "301320  SAN FRANCISCO   8.05  19610101\n",
       "321408          TAMPA  15.00  19610101\n",
       "341496       NEW YORK   5.00  19610101\n",
       "361584        DETROIT  -3.10  19610101\n",
       "381672       ST LOUIS  -0.55  19610101\n",
       "401760        CHICAGO  -4.75  19610101"
      ]
     },
     "execution_count": 12,
     "metadata": {},
     "output_type": "execute_result"
    }
   ],
   "source": [
    "df[df['DATE'] == 19610101]"
   ]
  },
  {
   "cell_type": "code",
   "execution_count": 8,
   "metadata": {},
   "outputs": [
    {
     "data": {
      "text/plain": [
       "0        3.10\n",
       "1        0.55\n",
       "2        0.00\n",
       "3        4.45\n",
       "4        8.35\n",
       "         ... \n",
       "20083    3.05\n",
       "20084    3.35\n",
       "20085    3.90\n",
       "20086    2.30\n",
       "20087    1.75\n",
       "Name: TEMP, Length: 20088, dtype: float64"
      ]
     },
     "execution_count": 8,
     "metadata": {},
     "output_type": "execute_result"
    }
   ],
   "source": [
    "df[df['CITY'] == 'SEATTLE']['TEMP']"
   ]
  },
  {
   "cell_type": "code",
   "execution_count": 16,
   "metadata": {},
   "outputs": [
    {
     "data": {
      "text/plain": [
       "Text(0.5, 0, 'Temperature')"
      ]
     },
     "execution_count": 16,
     "metadata": {},
     "output_type": "execute_result"
    },
    {
     "data": {
      "image/png": "[encoded data removed]",
      "text/plain": [
       "<Figure size 432x288 with 1 Axes>"
      ]
     },
     "metadata": {
      "needs_background": "light"
     },
     "output_type": "display_data"
    }
   ],
   "source": [
    "plt.hist(df['TEMP'], bins=20)\n",
    "plt.title(\"Temperature Distribution\")\n",
    "plt.ylabel(\"No. of Days\")\n",
    "plt.xlabel(\"Temperature\")"
   ]
  },
  {
   "cell_type": "markdown",
   "metadata": {},
   "source": [
    "#### Statistics"
   ]
  },
  {
   "cell_type": "code",
   "execution_count": 20,
   "metadata": {},
   "outputs": [
    {
     "data": {
      "text/plain": [
       "9.4375585448045"
      ]
     },
     "execution_count": 20,
     "metadata": {},
     "output_type": "execute_result"
    }
   ],
   "source": [
    "standard_deviation = np.std(df['TEMP'])\n",
    "standard_deviation"
   ]
  },
  {
   "cell_type": "code",
   "execution_count": 54,
   "metadata": {},
   "outputs": [
    {
     "data": {
      "text/plain": [
       "16.298769461986048"
      ]
     },
     "execution_count": 54,
     "metadata": {},
     "output_type": "execute_result"
    }
   ],
   "source": [
    "mean = np.mean(df['TEMP'])\n",
    "mean"
   ]
  },
  {
   "cell_type": "code",
   "execution_count": 26,
   "metadata": {},
   "outputs": [],
   "source": [
    "sample_100 = random.sample(list(df['TEMP']), 100)"
   ]
  },
  {
   "cell_type": "code",
   "execution_count": 27,
   "metadata": {},
   "outputs": [
    {
     "data": {
      "text/plain": [
       "(array([ 2.,  0.,  2., 13., 10., 18., 15., 13., 10., 17.]),\n",
       " array([-9.75 , -5.775, -1.8  ,  2.175,  6.15 , 10.125, 14.1  , 18.075,\n",
       "        22.05 , 26.025, 30.   ]),\n",
       " <a list of 10 Patch objects>)"
      ]
     },
     "execution_count": 27,
     "metadata": {},
     "output_type": "execute_result"
    },
    {
     "data": {
      "image/png": "[encoded data removed]",
      "text/plain": [
       "<Figure size 432x288 with 1 Axes>"
      ]
     },
     "metadata": {
      "needs_background": "light"
     },
     "output_type": "display_data"
    }
   ],
   "source": [
    "plt.hist(sample_100)"
   ]
  },
  {
   "cell_type": "code",
   "execution_count": 31,
   "metadata": {},
   "outputs": [],
   "source": [
    "mean_sample_100 = np.mean(sample_100)\n",
    "standard_dev_sample_100 = np.std(sample_100)"
   ]
  },
  {
   "cell_type": "code",
   "execution_count": 30,
   "metadata": {},
   "outputs": [
    {
     "data": {
      "text/plain": [
       "15.5485"
      ]
     },
     "execution_count": 30,
     "metadata": {},
     "output_type": "execute_result"
    }
   ],
   "source": [
    "mean_sample_100"
   ]
  },
  {
   "cell_type": "code",
   "execution_count": 29,
   "metadata": {},
   "outputs": [
    {
     "data": {
      "text/plain": [
       "8.895961035773482"
      ]
     },
     "execution_count": 29,
     "metadata": {},
     "output_type": "execute_result"
    }
   ],
   "source": [
    "standard_dev_sample_100"
   ]
  },
  {
   "cell_type": "markdown",
   "metadata": {},
   "source": [
    "##### Distribution of Means"
   ]
  },
  {
   "cell_type": "code",
   "execution_count": 33,
   "metadata": {},
   "outputs": [],
   "source": [
    "means = []\n",
    "for i in range(1000):\n",
    "    sample = random.sample(list(df['TEMP']), 100)\n",
    "    sample_mean = np.mean(sample)\n",
    "    \n",
    "    means.append(sample_mean)"
   ]
  },
  {
   "cell_type": "code",
   "execution_count": 41,
   "metadata": {},
   "outputs": [
    {
     "data": {
      "text/plain": [
       "(array([ 1.,  0.,  1.,  3.,  7.,  5., 24., 25., 37., 48., 61., 80., 76.,\n",
       "        94., 89., 90., 81., 62., 67., 43., 50., 23., 13., 11.,  6.,  0.,\n",
       "         1.,  1.,  0.,  1.]),\n",
       " array([13.0955    , 13.32051667, 13.54553333, 13.77055   , 13.99556667,\n",
       "        14.22058333, 14.4456    , 14.67061667, 14.89563333, 15.12065   ,\n",
       "        15.34566667, 15.57068333, 15.7957    , 16.02071667, 16.24573333,\n",
       "        16.47075   , 16.69576667, 16.92078333, 17.1458    , 17.37081667,\n",
       "        17.59583333, 17.82085   , 18.04586667, 18.27088333, 18.4959    ,\n",
       "        18.72091667, 18.94593333, 19.17095   , 19.39596667, 19.62098333,\n",
       "        19.846     ]),\n",
       " <a list of 30 Patch objects>)"
      ]
     },
     "execution_count": 41,
     "metadata": {},
     "output_type": "execute_result"
    },
    {
     "data": {
      "image/png": "[encoded data removed]",
      "text/plain": [
       "<Figure size 432x288 with 1 Axes>"
      ]
     },
     "metadata": {
      "needs_background": "light"
     },
     "output_type": "display_data"
    }
   ],
   "source": [
    "plt.hist(means, bins = 30)"
   ]
  },
  {
   "cell_type": "code",
   "execution_count": 43,
   "metadata": {},
   "outputs": [
    {
     "data": {
      "text/plain": [
       "16.348011999999997"
      ]
     },
     "execution_count": 43,
     "metadata": {},
     "output_type": "execute_result"
    }
   ],
   "source": [
    "mean_of_means = np.mean(means)\n",
    "mean_of_means"
   ]
  },
  {
   "cell_type": "code",
   "execution_count": 45,
   "metadata": {},
   "outputs": [
    {
     "data": {
      "text/plain": [
       "0.9541396057999059"
      ]
     },
     "execution_count": 45,
     "metadata": {},
     "output_type": "execute_result"
    }
   ],
   "source": [
    "standard_dev_means = np.std(means)\n",
    "standard_dev_means"
   ]
  },
  {
   "cell_type": "markdown",
   "metadata": {},
   "source": [
    "### Plotting variances for different sample sizes"
   ]
  },
  {
   "cell_type": "code",
   "execution_count": 198,
   "metadata": {},
   "outputs": [],
   "source": [
    "n_values = [100, 200, 300, 400, 500, 600]\n",
    "means_for_different_n = []\n",
    "std_for_different_n = []\n",
    "for n in n_values:\n",
    "    distribution_means  = []\n",
    "    for i in range(100):\n",
    "        sample = random.sample(list(df['TEMP']), n)\n",
    "        sample_mean = np.mean(sample)\n",
    "        distribution_means.append(sample_mean)\n",
    "    means_n = np.mean(distribution_means)\n",
    "    std_n = np.std(distribution_means)\n",
    "    means_for_different_n.append(means_n)\n",
    "    std_for_different_n.append(std_n)\n",
    "\n",
    "    "
   ]
  },
  {
   "cell_type": "code",
   "execution_count": 199,
   "metadata": {},
   "outputs": [
    {
     "data": {
      "text/plain": [
       "[0.8952444292482359,\n",
       " 0.6244663165205551,\n",
       " 0.556948456569367,\n",
       " 0.4795259933322174,\n",
       " 0.44839140655793147,\n",
       " 0.3443134639909057]"
      ]
     },
     "execution_count": 199,
     "metadata": {},
     "output_type": "execute_result"
    }
   ],
   "source": [
    "std_for_different_n"
   ]
  },
  {
   "cell_type": "code",
   "execution_count": 100,
   "metadata": {},
   "outputs": [
    {
     "data": {
      "text/plain": [
       "<ErrorbarContainer object of 3 artists>"
      ]
     },
     "execution_count": 100,
     "metadata": {},
     "output_type": "execute_result"
    },
    {
     "data": {
      "image/png": "[encoded data removed]",
      "text/plain": [
       "<Figure size 432x288 with 1 Axes>"
      ]
     },
     "metadata": {
      "needs_background": "light"
     },
     "output_type": "display_data"
    }
   ],
   "source": [
    "plt.errorbar(n_values, means_for_different_n, yerr=1.96*np.array(std_for_different_n))"
   ]
  },
  {
   "cell_type": "markdown",
   "metadata": {},
   "source": [
    "We've calculated the standard errors of the distributions of means above. Let's plot it with the sigma/root n  value"
   ]
  },
  {
   "cell_type": "code",
   "execution_count": 192,
   "metadata": {},
   "outputs": [],
   "source": [
    "def standard_error(standard_dev, n):\n",
    "    return standard_dev/n**(0.5)"
   ]
  },
  {
   "cell_type": "code",
   "execution_count": 194,
   "metadata": {},
   "outputs": [],
   "source": [
    "sigma_upon_root_n_values = []\n",
    "for n in n_values:\n",
    "    sigma_upon_root_n = standard_error(standard_deviation, n)\n",
    "    sigma_upon_root_n_values.append(sigma_upon_root_n)"
   ]
  },
  {
   "cell_type": "code",
   "execution_count": 196,
   "metadata": {},
   "outputs": [
    {
     "data": {
      "text/plain": [
       "[0.94375585448045,\n",
       " 0.6673361644876307,\n",
       " 0.544877696633573,\n",
       " 0.471877927240225,\n",
       " 0.4220604489563371,\n",
       " 0.38528671420690597]"
      ]
     },
     "execution_count": 196,
     "metadata": {},
     "output_type": "execute_result"
    }
   ],
   "source": [
    "sigma_upon_root_n_values"
   ]
  },
  {
   "cell_type": "code",
   "execution_count": 200,
   "metadata": {},
   "outputs": [
    {
     "data": {
      "text/plain": [
       "[0.8952444292482359,\n",
       " 0.6244663165205551,\n",
       " 0.556948456569367,\n",
       " 0.4795259933322174,\n",
       " 0.44839140655793147,\n",
       " 0.3443134639909057]"
      ]
     },
     "execution_count": 200,
     "metadata": {},
     "output_type": "execute_result"
    }
   ],
   "source": [
    "std_for_different_n"
   ]
  },
  {
   "cell_type": "code",
   "execution_count": 201,
   "metadata": {},
   "outputs": [
    {
     "data": {
      "text/plain": [
       "[<matplotlib.lines.Line2D at 0x24bf9ec39a0>]"
      ]
     },
     "execution_count": 201,
     "metadata": {},
     "output_type": "execute_result"
    },
    {
     "data": {
      "image/png": "[encoded data removed]",
      "text/plain": [
       "<Figure size 432x288 with 1 Axes>"
      ]
     },
     "metadata": {
      "needs_background": "light"
     },
     "output_type": "display_data"
    }
   ],
   "source": [
    "plt.plot(std_for_different_n)\n",
    "plt.plot(sigma_upon_root_n_values)"
   ]
  },
  {
   "cell_type": "code",
   "execution_count": null,
   "metadata": {},
   "outputs": [],
   "source": []
  },
  {
   "cell_type": "markdown",
   "metadata": {},
   "source": [
    "#### Plotting different distributions"
   ]
  },
  {
   "cell_type": "markdown",
   "metadata": {},
   "source": [
    "we will plot different distributions and then see the percentage error of the sample variance with the actual variance with sample size"
   ]
  },
  {
   "cell_type": "code",
   "execution_count": 207,
   "metadata": {},
   "outputs": [],
   "source": [
    "def plot_distributions():\n",
    "    uniform, normal, exp = [], [], []\n",
    "    for i in range(100000):\n",
    "        uniform.append(random.random())\n",
    "        normal.append(random.gauss(0,1))\n",
    "        exp.append(random.expovariate(0.5))\n",
    "    return (uniform, normal, exp)"
   ]
  },
  {
   "cell_type": "code",
   "execution_count": 209,
   "metadata": {},
   "outputs": [],
   "source": [
    "uniform, normal, exp = plot_distributions()"
   ]
  },
  {
   "cell_type": "code",
   "execution_count": 212,
   "metadata": {},
   "outputs": [
    {
     "data": {
      "text/plain": [
       "(array([ 951., 1001.,  984., 1020.,  950., 1003.,  965.,  996., 1007.,\n",
       "        1033.,  954., 1005., 1036.,  966.,  995.,  979., 1035., 1009.,\n",
       "        1002., 1019., 1078., 1028.,  963., 1014., 1022., 1069., 1005.,\n",
       "        1031., 1072.,  959., 1021.,  945., 1012., 1014.,  987., 1019.,\n",
       "        1002.,  993.,  992.,  965.,  970., 1008.,  940.,  992.,  992.,\n",
       "         983.,  998.,  948., 1061., 1042.,  964.,  956., 1019.,  967.,\n",
       "        1023.,  995.,  996.,  966., 1034., 1031.,  960., 1014., 1008.,\n",
       "         968., 1051., 1015., 1015., 1015., 1061.,  993.,  980.,  971.,\n",
       "         979.,  978.,  970., 1000.,  992., 1012.,  988.,  995.,  999.,\n",
       "         985., 1044., 1015.,  959., 1018.,  973., 1031., 1025., 1022.,\n",
       "         961.,  982., 1033.,  981.,  970., 1006.,  986., 1021., 1020.,\n",
       "        1018.]),\n",
       " array([4.27092888e-06, 1.00041402e-02, 2.00040094e-02, 3.00038786e-02,\n",
       "        4.00037478e-02, 5.00036171e-02, 6.00034863e-02, 7.00033555e-02,\n",
       "        8.00032248e-02, 9.00030940e-02, 1.00002963e-01, 1.10002832e-01,\n",
       "        1.20002702e-01, 1.30002571e-01, 1.40002440e-01, 1.50002309e-01,\n",
       "        1.60002179e-01, 1.70002048e-01, 1.80001917e-01, 1.90001786e-01,\n",
       "        2.00001656e-01, 2.10001525e-01, 2.20001394e-01, 2.30001263e-01,\n",
       "        2.40001132e-01, 2.50001002e-01, 2.60000871e-01, 2.70000740e-01,\n",
       "        2.80000609e-01, 2.90000479e-01, 3.00000348e-01, 3.10000217e-01,\n",
       "        3.20000086e-01, 3.29999956e-01, 3.39999825e-01, 3.49999694e-01,\n",
       "        3.59999563e-01, 3.69999432e-01, 3.79999302e-01, 3.89999171e-01,\n",
       "        3.99999040e-01, 4.09998909e-01, 4.19998779e-01, 4.29998648e-01,\n",
       "        4.39998517e-01, 4.49998386e-01, 4.59998255e-01, 4.69998125e-01,\n",
       "        4.79997994e-01, 4.89997863e-01, 4.99997732e-01, 5.09997602e-01,\n",
       "        5.19997471e-01, 5.29997340e-01, 5.39997209e-01, 5.49997079e-01,\n",
       "        5.59996948e-01, 5.69996817e-01, 5.79996686e-01, 5.89996555e-01,\n",
       "        5.99996425e-01, 6.09996294e-01, 6.19996163e-01, 6.29996032e-01,\n",
       "        6.39995902e-01, 6.49995771e-01, 6.59995640e-01, 6.69995509e-01,\n",
       "        6.79995379e-01, 6.89995248e-01, 6.99995117e-01, 7.09994986e-01,\n",
       "        7.19994855e-01, 7.29994725e-01, 7.39994594e-01, 7.49994463e-01,\n",
       "        7.59994332e-01, 7.69994202e-01, 7.79994071e-01, 7.89993940e-01,\n",
       "        7.99993809e-01, 8.09993679e-01, 8.19993548e-01, 8.29993417e-01,\n",
       "        8.39993286e-01, 8.49993155e-01, 8.59993025e-01, 8.69992894e-01,\n",
       "        8.79992763e-01, 8.89992632e-01, 8.99992502e-01, 9.09992371e-01,\n",
       "        9.19992240e-01, 9.29992109e-01, 9.39991979e-01, 9.49991848e-01,\n",
       "        9.59991717e-01, 9.69991586e-01, 9.79991455e-01, 9.89991325e-01,\n",
       "        9.99991194e-01]),\n",
       " <a list of 100 Patch objects>)"
      ]
     },
     "execution_count": 212,
     "metadata": {},
     "output_type": "execute_result"
    },
    {
     "data": {
      "image/png": "[encoded data removed]",
      "text/plain": [
       "<Figure size 432x288 with 1 Axes>"
      ]
     },
     "metadata": {
      "needs_background": "light"
     },
     "output_type": "display_data"
    }
   ],
   "source": [
    "plt.hist(uniform, bins = 100)"
   ]
  },
  {
   "cell_type": "code",
   "execution_count": 214,
   "metadata": {},
   "outputs": [
    {
     "data": {
      "text/plain": [
       "(array([1.000e+00, 2.000e+00, 0.000e+00, 0.000e+00, 1.000e+00, 1.000e+00,\n",
       "        3.000e+00, 4.000e+00, 3.000e+00, 5.000e+00, 8.000e+00, 5.000e+00,\n",
       "        1.500e+01, 8.000e+00, 1.400e+01, 3.700e+01, 3.500e+01, 4.200e+01,\n",
       "        5.200e+01, 6.600e+01, 9.900e+01, 1.260e+02, 1.240e+02, 1.640e+02,\n",
       "        2.130e+02, 2.610e+02, 3.020e+02, 3.960e+02, 4.330e+02, 5.670e+02,\n",
       "        6.810e+02, 7.370e+02, 8.720e+02, 9.680e+02, 1.113e+03, 1.285e+03,\n",
       "        1.463e+03, 1.612e+03, 1.771e+03, 1.854e+03, 2.031e+03, 2.345e+03,\n",
       "        2.402e+03, 2.572e+03, 2.772e+03, 2.846e+03, 2.993e+03, 3.066e+03,\n",
       "        3.039e+03, 3.368e+03, 3.357e+03, 3.411e+03, 3.377e+03, 3.372e+03,\n",
       "        3.336e+03, 3.194e+03, 3.127e+03, 2.997e+03, 2.960e+03, 2.813e+03,\n",
       "        2.643e+03, 2.514e+03, 2.368e+03, 2.088e+03, 1.949e+03, 1.833e+03,\n",
       "        1.594e+03, 1.415e+03, 1.259e+03, 1.186e+03, 1.004e+03, 8.560e+02,\n",
       "        7.450e+02, 6.800e+02, 5.280e+02, 4.500e+02, 4.260e+02, 3.130e+02,\n",
       "        3.030e+02, 2.390e+02, 1.850e+02, 1.340e+02, 1.420e+02, 7.800e+01,\n",
       "        7.500e+01, 5.800e+01, 5.700e+01, 3.900e+01, 2.300e+01, 2.900e+01,\n",
       "        1.200e+01, 1.000e+01, 1.500e+01, 4.000e+00, 6.000e+00, 1.000e+01,\n",
       "        4.000e+00, 2.000e+00, 2.000e+00, 1.000e+00]),\n",
       " array([-4.41201475, -4.32744214, -4.24286953, -4.15829691, -4.0737243 ,\n",
       "        -3.98915169, -3.90457908, -3.82000647, -3.73543386, -3.65086125,\n",
       "        -3.56628864, -3.48171603, -3.39714342, -3.31257081, -3.2279982 ,\n",
       "        -3.14342559, -3.05885297, -2.97428036, -2.88970775, -2.80513514,\n",
       "        -2.72056253, -2.63598992, -2.55141731, -2.4668447 , -2.38227209,\n",
       "        -2.29769948, -2.21312687, -2.12855426, -2.04398165, -1.95940903,\n",
       "        -1.87483642, -1.79026381, -1.7056912 , -1.62111859, -1.53654598,\n",
       "        -1.45197337, -1.36740076, -1.28282815, -1.19825554, -1.11368293,\n",
       "        -1.02911032, -0.94453771, -0.8599651 , -0.77539248, -0.69081987,\n",
       "        -0.60624726, -0.52167465, -0.43710204, -0.35252943, -0.26795682,\n",
       "        -0.18338421, -0.0988116 , -0.01423899,  0.07033362,  0.15490623,\n",
       "         0.23947884,  0.32405146,  0.40862407,  0.49319668,  0.57776929,\n",
       "         0.6623419 ,  0.74691451,  0.83148712,  0.91605973,  1.00063234,\n",
       "         1.08520495,  1.16977756,  1.25435017,  1.33892278,  1.4234954 ,\n",
       "         1.50806801,  1.59264062,  1.67721323,  1.76178584,  1.84635845,\n",
       "         1.93093106,  2.01550367,  2.10007628,  2.18464889,  2.2692215 ,\n",
       "         2.35379411,  2.43836672,  2.52293934,  2.60751195,  2.69208456,\n",
       "         2.77665717,  2.86122978,  2.94580239,  3.030375  ,  3.11494761,\n",
       "         3.19952022,  3.28409283,  3.36866544,  3.45323805,  3.53781066,\n",
       "         3.62238328,  3.70695589,  3.7915285 ,  3.87610111,  3.96067372,\n",
       "         4.04524633]),\n",
       " <a list of 100 Patch objects>)"
      ]
     },
     "execution_count": 214,
     "metadata": {},
     "output_type": "execute_result"
    },
    {
     "data": {
      "image/png": "[encoded data removed]",
      "text/plain": [
       "<Figure size 432x288 with 1 Axes>"
      ]
     },
     "metadata": {
      "needs_background": "light"
     },
     "output_type": "display_data"
    }
   ],
   "source": [
    "plt.hist(normal, bins = 100)"
   ]
  },
  {
   "cell_type": "code",
   "execution_count": 216,
   "metadata": {},
   "outputs": [
    {
     "data": {
      "text/plain": [
       "(array([3.685e+03, 3.555e+03, 3.348e+03, 3.277e+03, 3.180e+03, 3.041e+03,\n",
       "        2.901e+03, 2.825e+03, 2.789e+03, 2.632e+03, 2.546e+03, 2.368e+03,\n",
       "        2.357e+03, 2.221e+03, 2.241e+03, 2.116e+03, 2.060e+03, 2.011e+03,\n",
       "        1.838e+03, 1.803e+03, 1.709e+03, 1.656e+03, 1.616e+03, 1.629e+03,\n",
       "        1.502e+03, 1.420e+03, 1.328e+03, 1.338e+03, 1.281e+03, 1.198e+03,\n",
       "        1.206e+03, 1.170e+03, 1.082e+03, 1.068e+03, 9.930e+02, 9.820e+02,\n",
       "        9.850e+02, 8.390e+02, 9.090e+02, 8.310e+02, 8.030e+02, 7.710e+02,\n",
       "        7.870e+02, 7.460e+02, 6.870e+02, 6.040e+02, 6.720e+02, 6.660e+02,\n",
       "        6.620e+02, 5.830e+02, 5.370e+02, 5.530e+02, 5.240e+02, 5.070e+02,\n",
       "        4.600e+02, 4.790e+02, 4.660e+02, 4.480e+02, 3.900e+02, 3.830e+02,\n",
       "        3.920e+02, 3.520e+02, 3.520e+02, 3.500e+02, 3.380e+02, 2.900e+02,\n",
       "        3.320e+02, 3.180e+02, 2.860e+02, 2.920e+02, 2.980e+02, 2.380e+02,\n",
       "        2.450e+02, 2.250e+02, 2.340e+02, 2.380e+02, 1.990e+02, 2.210e+02,\n",
       "        1.980e+02, 1.960e+02, 1.650e+02, 2.070e+02, 1.620e+02, 1.520e+02,\n",
       "        1.640e+02, 1.570e+02, 1.540e+02, 1.410e+02, 1.560e+02, 1.140e+02,\n",
       "        1.350e+02, 1.280e+02, 1.310e+02, 1.180e+02, 1.270e+02, 1.210e+02,\n",
       "        1.080e+02, 1.230e+02, 1.070e+02, 9.600e+01, 8.800e+01, 8.000e+01,\n",
       "        8.100e+01, 7.300e+01, 7.100e+01, 7.500e+01, 5.700e+01, 6.400e+01,\n",
       "        4.700e+01, 5.500e+01, 6.700e+01, 5.700e+01, 7.000e+01, 5.500e+01,\n",
       "        5.400e+01, 5.000e+01, 5.100e+01, 4.900e+01, 4.400e+01, 4.500e+01,\n",
       "        4.200e+01, 3.900e+01, 2.800e+01, 2.800e+01, 4.100e+01, 4.000e+01,\n",
       "        3.100e+01, 3.900e+01, 4.100e+01, 3.500e+01, 3.700e+01, 3.200e+01,\n",
       "        2.500e+01, 2.100e+01, 2.000e+01, 2.300e+01, 2.200e+01, 1.900e+01,\n",
       "        1.600e+01, 1.400e+01, 1.500e+01, 1.800e+01, 2.100e+01, 2.000e+01,\n",
       "        1.300e+01, 1.400e+01, 1.700e+01, 1.800e+01, 1.900e+01, 2.000e+01,\n",
       "        1.200e+01, 1.300e+01, 1.000e+01, 1.100e+01, 1.700e+01, 1.200e+01,\n",
       "        1.300e+01, 1.100e+01, 1.800e+01, 1.100e+01, 8.000e+00, 9.000e+00,\n",
       "        7.000e+00, 1.400e+01, 1.000e+01, 9.000e+00, 1.100e+01, 1.200e+01,\n",
       "        3.000e+00, 5.000e+00, 8.000e+00, 1.100e+01, 4.000e+00, 1.100e+01,\n",
       "        5.000e+00, 3.000e+00, 3.000e+00, 4.000e+00, 8.000e+00, 4.000e+00,\n",
       "        2.000e+00, 2.000e+00, 1.000e+00, 4.000e+00, 3.000e+00, 2.000e+00,\n",
       "        6.000e+00, 4.000e+00, 3.000e+00, 2.000e+00, 4.000e+00, 7.000e+00,\n",
       "        6.000e+00, 3.000e+00, 1.000e+00, 1.000e+00, 2.000e+00, 0.000e+00,\n",
       "        0.000e+00, 1.000e+00, 0.000e+00, 1.000e+00, 2.000e+00, 0.000e+00,\n",
       "        0.000e+00, 1.000e+00, 4.000e+00, 4.000e+00, 1.000e+00, 0.000e+00,\n",
       "        2.000e+00, 1.000e+00, 1.000e+00, 0.000e+00, 2.000e+00, 2.000e+00,\n",
       "        1.000e+00, 2.000e+00, 1.000e+00, 2.000e+00, 1.000e+00, 0.000e+00,\n",
       "        0.000e+00, 1.000e+00, 0.000e+00, 1.000e+00, 0.000e+00, 1.000e+00,\n",
       "        0.000e+00, 0.000e+00, 1.000e+00, 0.000e+00, 2.000e+00, 0.000e+00,\n",
       "        1.000e+00, 0.000e+00, 0.000e+00, 1.000e+00, 1.000e+00, 0.000e+00,\n",
       "        0.000e+00, 0.000e+00, 0.000e+00, 0.000e+00, 0.000e+00, 0.000e+00,\n",
       "        0.000e+00, 0.000e+00, 0.000e+00, 1.000e+00, 0.000e+00, 0.000e+00,\n",
       "        0.000e+00, 1.000e+00, 0.000e+00, 0.000e+00, 0.000e+00, 0.000e+00,\n",
       "        1.000e+00, 0.000e+00, 1.000e+00, 0.000e+00, 0.000e+00, 0.000e+00,\n",
       "        1.000e+00, 0.000e+00, 0.000e+00, 0.000e+00, 0.000e+00, 0.000e+00,\n",
       "        0.000e+00, 0.000e+00, 0.000e+00, 0.000e+00, 0.000e+00, 0.000e+00,\n",
       "        0.000e+00, 0.000e+00, 0.000e+00, 0.000e+00, 0.000e+00, 0.000e+00,\n",
       "        0.000e+00, 0.000e+00, 0.000e+00, 0.000e+00, 0.000e+00, 0.000e+00,\n",
       "        0.000e+00, 0.000e+00, 0.000e+00, 0.000e+00, 0.000e+00, 0.000e+00,\n",
       "        0.000e+00, 0.000e+00, 1.000e+00, 0.000e+00, 0.000e+00, 1.000e+00]),\n",
       " array([2.60153011e-05, 7.47116492e-02, 1.49397283e-01, 2.24082917e-01,\n",
       "        2.98768551e-01, 3.73454185e-01, 4.48139819e-01, 5.22825453e-01,\n",
       "        5.97511087e-01, 6.72196721e-01, 7.46882355e-01, 8.21567989e-01,\n",
       "        8.96253623e-01, 9.70939256e-01, 1.04562489e+00, 1.12031052e+00,\n",
       "        1.19499616e+00, 1.26968179e+00, 1.34436743e+00, 1.41905306e+00,\n",
       "        1.49373869e+00, 1.56842433e+00, 1.64310996e+00, 1.71779560e+00,\n",
       "        1.79248123e+00, 1.86716686e+00, 1.94185250e+00, 2.01653813e+00,\n",
       "        2.09122377e+00, 2.16590940e+00, 2.24059503e+00, 2.31528067e+00,\n",
       "        2.38996630e+00, 2.46465194e+00, 2.53933757e+00, 2.61402320e+00,\n",
       "        2.68870884e+00, 2.76339447e+00, 2.83808010e+00, 2.91276574e+00,\n",
       "        2.98745137e+00, 3.06213701e+00, 3.13682264e+00, 3.21150827e+00,\n",
       "        3.28619391e+00, 3.36087954e+00, 3.43556518e+00, 3.51025081e+00,\n",
       "        3.58493644e+00, 3.65962208e+00, 3.73430771e+00, 3.80899335e+00,\n",
       "        3.88367898e+00, 3.95836461e+00, 4.03305025e+00, 4.10773588e+00,\n",
       "        4.18242152e+00, 4.25710715e+00, 4.33179278e+00, 4.40647842e+00,\n",
       "        4.48116405e+00, 4.55584969e+00, 4.63053532e+00, 4.70522095e+00,\n",
       "        4.77990659e+00, 4.85459222e+00, 4.92927786e+00, 5.00396349e+00,\n",
       "        5.07864912e+00, 5.15333476e+00, 5.22802039e+00, 5.30270602e+00,\n",
       "        5.37739166e+00, 5.45207729e+00, 5.52676293e+00, 5.60144856e+00,\n",
       "        5.67613419e+00, 5.75081983e+00, 5.82550546e+00, 5.90019110e+00,\n",
       "        5.97487673e+00, 6.04956236e+00, 6.12424800e+00, 6.19893363e+00,\n",
       "        6.27361927e+00, 6.34830490e+00, 6.42299053e+00, 6.49767617e+00,\n",
       "        6.57236180e+00, 6.64704744e+00, 6.72173307e+00, 6.79641870e+00,\n",
       "        6.87110434e+00, 6.94578997e+00, 7.02047561e+00, 7.09516124e+00,\n",
       "        7.16984687e+00, 7.24453251e+00, 7.31921814e+00, 7.39390377e+00,\n",
       "        7.46858941e+00, 7.54327504e+00, 7.61796068e+00, 7.69264631e+00,\n",
       "        7.76733194e+00, 7.84201758e+00, 7.91670321e+00, 7.99138885e+00,\n",
       "        8.06607448e+00, 8.14076011e+00, 8.21544575e+00, 8.29013138e+00,\n",
       "        8.36481702e+00, 8.43950265e+00, 8.51418828e+00, 8.58887392e+00,\n",
       "        8.66355955e+00, 8.73824519e+00, 8.81293082e+00, 8.88761645e+00,\n",
       "        8.96230209e+00, 9.03698772e+00, 9.11167336e+00, 9.18635899e+00,\n",
       "        9.26104462e+00, 9.33573026e+00, 9.41041589e+00, 9.48510153e+00,\n",
       "        9.55978716e+00, 9.63447279e+00, 9.70915843e+00, 9.78384406e+00,\n",
       "        9.85852969e+00, 9.93321533e+00, 1.00079010e+01, 1.00825866e+01,\n",
       "        1.01572722e+01, 1.02319579e+01, 1.03066435e+01, 1.03813291e+01,\n",
       "        1.04560148e+01, 1.05307004e+01, 1.06053860e+01, 1.06800717e+01,\n",
       "        1.07547573e+01, 1.08294429e+01, 1.09041286e+01, 1.09788142e+01,\n",
       "        1.10534998e+01, 1.11281855e+01, 1.12028711e+01, 1.12775567e+01,\n",
       "        1.13522424e+01, 1.14269280e+01, 1.15016136e+01, 1.15762993e+01,\n",
       "        1.16509849e+01, 1.17256705e+01, 1.18003562e+01, 1.18750418e+01,\n",
       "        1.19497274e+01, 1.20244131e+01, 1.20990987e+01, 1.21737843e+01,\n",
       "        1.22484700e+01, 1.23231556e+01, 1.23978412e+01, 1.24725269e+01,\n",
       "        1.25472125e+01, 1.26218982e+01, 1.26965838e+01, 1.27712694e+01,\n",
       "        1.28459551e+01, 1.29206407e+01, 1.29953263e+01, 1.30700120e+01,\n",
       "        1.31446976e+01, 1.32193832e+01, 1.32940689e+01, 1.33687545e+01,\n",
       "        1.34434401e+01, 1.35181258e+01, 1.35928114e+01, 1.36674970e+01,\n",
       "        1.37421827e+01, 1.38168683e+01, 1.38915539e+01, 1.39662396e+01,\n",
       "        1.40409252e+01, 1.41156108e+01, 1.41902965e+01, 1.42649821e+01,\n",
       "        1.43396677e+01, 1.44143534e+01, 1.44890390e+01, 1.45637246e+01,\n",
       "        1.46384103e+01, 1.47130959e+01, 1.47877815e+01, 1.48624672e+01,\n",
       "        1.49371528e+01, 1.50118384e+01, 1.50865241e+01, 1.51612097e+01,\n",
       "        1.52358953e+01, 1.53105810e+01, 1.53852666e+01, 1.54599522e+01,\n",
       "        1.55346379e+01, 1.56093235e+01, 1.56840091e+01, 1.57586948e+01,\n",
       "        1.58333804e+01, 1.59080660e+01, 1.59827517e+01, 1.60574373e+01,\n",
       "        1.61321229e+01, 1.62068086e+01, 1.62814942e+01, 1.63561798e+01,\n",
       "        1.64308655e+01, 1.65055511e+01, 1.65802367e+01, 1.66549224e+01,\n",
       "        1.67296080e+01, 1.68042937e+01, 1.68789793e+01, 1.69536649e+01,\n",
       "        1.70283506e+01, 1.71030362e+01, 1.71777218e+01, 1.72524075e+01,\n",
       "        1.73270931e+01, 1.74017787e+01, 1.74764644e+01, 1.75511500e+01,\n",
       "        1.76258356e+01, 1.77005213e+01, 1.77752069e+01, 1.78498925e+01,\n",
       "        1.79245782e+01, 1.79992638e+01, 1.80739494e+01, 1.81486351e+01,\n",
       "        1.82233207e+01, 1.82980063e+01, 1.83726920e+01, 1.84473776e+01,\n",
       "        1.85220632e+01, 1.85967489e+01, 1.86714345e+01, 1.87461201e+01,\n",
       "        1.88208058e+01, 1.88954914e+01, 1.89701770e+01, 1.90448627e+01,\n",
       "        1.91195483e+01, 1.91942339e+01, 1.92689196e+01, 1.93436052e+01,\n",
       "        1.94182908e+01, 1.94929765e+01, 1.95676621e+01, 1.96423477e+01,\n",
       "        1.97170334e+01, 1.97917190e+01, 1.98664046e+01, 1.99410903e+01,\n",
       "        2.00157759e+01, 2.00904615e+01, 2.01651472e+01, 2.02398328e+01,\n",
       "        2.03145184e+01, 2.03892041e+01, 2.04638897e+01, 2.05385753e+01,\n",
       "        2.06132610e+01, 2.06879466e+01, 2.07626322e+01, 2.08373179e+01,\n",
       "        2.09120035e+01, 2.09866892e+01, 2.10613748e+01, 2.11360604e+01,\n",
       "        2.12107461e+01, 2.12854317e+01, 2.13601173e+01, 2.14348030e+01,\n",
       "        2.15094886e+01, 2.15841742e+01, 2.16588599e+01, 2.17335455e+01,\n",
       "        2.18082311e+01, 2.18829168e+01, 2.19576024e+01, 2.20322880e+01,\n",
       "        2.21069737e+01, 2.21816593e+01, 2.22563449e+01, 2.23310306e+01,\n",
       "        2.24057162e+01]),\n",
       " <a list of 300 Patch objects>)"
      ]
     },
     "execution_count": 216,
     "metadata": {},
     "output_type": "execute_result"
    },
    {
     "data": {
      "image/png": "[encoded data removed]",
      "text/plain": [
       "<Figure size 432x288 with 1 Axes>"
      ]
     },
     "metadata": {
      "needs_background": "light"
     },
     "output_type": "display_data"
    }
   ],
   "source": [
    "plt.hist(exp, bins=300)"
   ]
  },
  {
   "cell_type": "code",
   "execution_count": 218,
   "metadata": {},
   "outputs": [],
   "source": [
    "std_uniform = np.std(uniform)\n",
    "std_normal = np.std(normal)\n",
    "std_exp = np.std(exp)"
   ]
  },
  {
   "cell_type": "markdown",
   "metadata": {},
   "source": [
    "we have the standard deviations of three different kinds of populations. we wanna see how error of the standard deviation of samples with the actual standard deviation varies with the sample size."
   ]
  },
  {
   "cell_type": "code",
   "execution_count": 225,
   "metadata": {},
   "outputs": [],
   "source": [
    "def std_error_vs_n(distribution, std_distribution):\n",
    "    std_samples_error_of_distribution = []\n",
    "    for n in range(1,600,3):\n",
    "        sample = random.sample(distribution, n)\n",
    "        std_sample = np.std(sample)\n",
    "        \n",
    "        #error\n",
    "        std_error_sample = abs((std_distribution-std_sample)/std_distribution*100)\n",
    "        std_samples_error_of_distribution.append(std_error_sample)\n",
    "    return std_samples_error_of_distribution"
   ]
  },
  {
   "cell_type": "code",
   "execution_count": 233,
   "metadata": {},
   "outputs": [
    {
     "data": {
      "text/plain": [
       "[<matplotlib.lines.Line2D at 0x24bf8274880>]"
      ]
     },
     "execution_count": 233,
     "metadata": {},
     "output_type": "execute_result"
    },
    {
     "data": {
      "image/png": "[encoded data removed]",
      "text/plain": [
       "<Figure size 432x288 with 1 Axes>"
      ]
     },
     "metadata": {
      "needs_background": "light"
     },
     "output_type": "display_data"
    }
   ],
   "source": [
    "plt.plot(std_error_vs_n(uniform, std_uniform), 'b')\n",
    "plt.plot(std_error_vs_n(normal, std_normal), 'g')\n",
    "plt.plot(std_error_vs_n(exp, std_exp), 'r')"
   ]
  },
  {
   "cell_type": "markdown",
   "metadata": {},
   "source": [
    "The exponential distribution errors are in red and are the highest because it is the most skewed"
   ]
  },
  {
   "cell_type": "markdown",
   "metadata": {},
   "source": [
    "## The more skewed the population is, the larger the sample size you'll need for a good approximation"
   ]
  },
  {
   "cell_type": "code",
   "execution_count": null,
   "metadata": {},
   "outputs": [],
   "source": []
  }
 ],
 "metadata": {
  "kernelspec": {
   "display_name": "Python 3",
   "language": "python",
   "name": "python3"
  },
  "language_info": {
   "codemirror_mode": {
    "name": "ipython",
    "version": 3
   },
   "file_extension": ".py",
   "mimetype": "text/x-python",
   "name": "python",
   "nbconvert_exporter": "python",
   "pygments_lexer": "ipython3",
   "version": "3.8.3"
  }
 },
 "nbformat": 4,
 "nbformat_minor": 4
}
