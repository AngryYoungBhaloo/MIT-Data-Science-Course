{
 "cells": [
  {
   "cell_type": "markdown",
   "metadata": {},
   "source": [
    "## Average Distance from Origin"
   ]
  },
  {
   "cell_type": "code",
   "execution_count": 362,
   "metadata": {},
   "outputs": [],
   "source": [
    "import random"
   ]
  },
  {
   "cell_type": "code",
   "execution_count": 39,
   "metadata": {},
   "outputs": [],
   "source": [
    "def random_walk():\n",
    "    position = (0,0)\n",
    "    east_or_west = random.choice([\"E\" , \"W\"])\n",
    "    north_or_south = random.choice([\"N\" , \"S\"])\n",
    "    \n",
    "    distance_x = 1\n",
    "    distance_y = 1\n",
    "    if east_or_west == \"W\":\n",
    "        distance_x = -1\n",
    "    if north_or_south == \"S\":\n",
    "        distance_y = -1\n",
    "    \n",
    "    increment = (distance_x, distance_y)\n",
    "    position = tuple(sum(x) for x in zip(position, increment))\n",
    "    \n",
    "    return position"
   ]
  },
  {
   "cell_type": "code",
   "execution_count": 53,
   "metadata": {},
   "outputs": [],
   "source": [
    "def random_walk(position = (0,0)):\n",
    "    distance_x = random.choice([-1, 1])\n",
    "    distance_y = random.choice([-1 , 1])\n",
    "    \n",
    "    increment = (distance_x, distance_y)\n",
    "    position = tuple(sum(x) for x in zip(position, increment))\n",
    "    \n",
    "    return position"
   ]
  },
  {
   "cell_type": "code",
   "execution_count": 58,
   "metadata": {},
   "outputs": [
    {
     "data": {
      "text/plain": [
       "(-1, -1)"
      ]
     },
     "execution_count": 58,
     "metadata": {},
     "output_type": "execute_result"
    }
   ],
   "source": [
    "random_walk()"
   ]
  },
  {
   "cell_type": "markdown",
   "metadata": {},
   "source": [
    "#### Classes"
   ]
  },
  {
   "cell_type": "code",
   "execution_count": 184,
   "metadata": {},
   "outputs": [],
   "source": [
    "class Location(object):\n",
    "    def __init__(self, x, y):\n",
    "        self.x = x\n",
    "        self.y = y\n",
    "    \n",
    "    def get_x(self):\n",
    "        return self.x\n",
    "    def get_y(self):\n",
    "        return self.y\n",
    "    \n",
    "    def move(self, delta_x, delta_y):\n",
    "        new_location = Location(self.x + delta_x, self.y + delta_y)\n",
    "        return new_location\n",
    "    \n",
    "    def distance_from(self, other):\n",
    "        diff_x = self.x - other.get_x()\n",
    "        diff_y = self.y - other.get_y()\n",
    "        return (diff_x**2 + diff_y**2)**0.5\n",
    "    \n",
    "    def __str__(self):\n",
    "        return '(' + str(self.x) + ',' + str(self.y) + ')'"
   ]
  },
  {
   "cell_type": "code",
   "execution_count": 85,
   "metadata": {},
   "outputs": [],
   "source": [
    "class Drunk(object):\n",
    "    def __init__(self, name= None):\n",
    "        self.name = name\n",
    "        \n",
    "    def __str__(self):\n",
    "        if self.name != None:\n",
    "            return self.name\n",
    "        return 'Anonymous'"
   ]
  },
  {
   "cell_type": "code",
   "execution_count": 351,
   "metadata": {},
   "outputs": [],
   "source": [
    "class Random_Drunk(Drunk):\n",
    "    def take_step(self):\n",
    "        choices = [(0,1), (0,-1), (1, 0), (-1, 0)]\n",
    "        return random.choice(choices)"
   ]
  },
  {
   "cell_type": "code",
   "execution_count": 352,
   "metadata": {},
   "outputs": [],
   "source": [
    "class Northward_Drunk(Drunk):\n",
    "    def take_step(self):\n",
    "        choices = [(0.0,1.1), (0.0,-0.9), (1.0,0.0), (-1.0,0.0)]\n",
    "        return random.choice(choices)"
   ]
  },
  {
   "cell_type": "markdown",
   "metadata": {},
   "source": [
    "Field class will be a dictionary and map a drunk to his/her location on the field"
   ]
  },
  {
   "cell_type": "code",
   "execution_count": 397,
   "metadata": {},
   "outputs": [],
   "source": [
    "class Field(object):\n",
    "    def __init__(self):\n",
    "        self.drunks = {}\n",
    "    \n",
    "    def add_drunk(self, drunk, location): #drunk object and location object as arguments\n",
    "        if drunk in self.drunks:\n",
    "            raise ValueError('Drunk already present')\n",
    "        else:\n",
    "            self.drunks[drunk] = location #as drunk object is used as a key in a dictionary, it should be immutable\n",
    "    \n",
    "    def get_location(self, drunk):\n",
    "        if drunk not in self.drunks:\n",
    "            raise ValueError('Drunk not in field')\n",
    "        return self.drunks[drunk]\n",
    "    \n",
    "    def move_drunk(self, drunk):\n",
    "        if drunk not in self.drunks:\n",
    "            raise ValueError('Drunk to field mei hai hi nahi mere dost.')\n",
    "        delta_x, delta_y = drunk.take_step()\n",
    "        #use move method of Location to change location\n",
    "        self.drunks[drunk] = self.drunks[drunk].move(delta_x, delta_y)\n",
    "        "
   ]
  },
  {
   "cell_type": "markdown",
   "metadata": {},
   "source": [
    "##### Random Walk"
   ]
  },
  {
   "cell_type": "code",
   "execution_count": 215,
   "metadata": {},
   "outputs": [],
   "source": [
    "def random_walk(field, drunk, steps):\n",
    "    #returns location object. \n",
    "    #location class has method to get distance between location objects so we don't have to get x and y coordinates separately\n",
    "    initial_location = field.get_location(drunk)\n",
    "    \n",
    "    for step in range(steps):\n",
    "        field.move_drunk(drunk)\n",
    "    \n",
    "    final_location = field.get_location(drunk)\n",
    "    \n",
    "    distance_covered = initial_location.distance_from(final_location)\n",
    "    \n",
    "    return distance_covered\n",
    "     "
   ]
  },
  {
   "cell_type": "code",
   "execution_count": 166,
   "metadata": {},
   "outputs": [],
   "source": [
    "def walk_simulation(steps, trials, drunk_class):\n",
    "    drunk = drunk_class()\n",
    "    origin = Location(0,0)\n",
    "    distances=[]\n",
    "    for trial in range(trials):\n",
    "        f = Field() #we can always create a new field for a new simulation so we don't need to specify a field in the arguments\n",
    "        f.add_drunk(drunk, origin)\n",
    "        distance = round(random_walk(f, drunk, steps))\n",
    "        distances.append(distance)\n",
    "    return distances"
   ]
  },
  {
   "cell_type": "code",
   "execution_count": 410,
   "metadata": {},
   "outputs": [],
   "source": [
    "def drunk_test(walk_lengths, trials, drunk_class):\n",
    "    means=[]\n",
    "    for steps in walk_lengths:\n",
    "        distances = walk_simulation(steps, trials, drunk_class)\n",
    "        mean = round(sum(distances)/len(distances),4)\n",
    "        max_distance = max(distances)\n",
    "        min_distance = min(distances)\n",
    "        means.append(mean)\n",
    "        \n",
    "        print(drunk_class.__name__ + ' Max =' + str(max_distance)+ ', Min = ' + str(min_distance) + ', Mean = ' + str(mean))"
   ]
  },
  {
   "cell_type": "code",
   "execution_count": 296,
   "metadata": {},
   "outputs": [],
   "source": [
    "random.seed(0)"
   ]
  },
  {
   "cell_type": "markdown",
   "metadata": {},
   "source": [
    "##### Drunk tests for multiple walks"
   ]
  },
  {
   "cell_type": "code",
   "execution_count": 297,
   "metadata": {},
   "outputs": [
    {
     "name": "stdout",
     "output_type": "stream",
     "text": [
      "Random_Drunk Max =8, Min = 0, Mean = 2.626\n",
      "Random_Drunk Max =31, Min = 0, Mean = 8.906\n",
      "Random_Drunk Max =86, Min = 1, Mean = 28.427\n",
      "Random_Drunk Max =284, Min = 1, Mean = 86.823\n"
     ]
    }
   ],
   "source": [
    "drunk_test([10, 100, 1000, 10000], 1000, Random_Drunk)"
   ]
  },
  {
   "cell_type": "code",
   "execution_count": 398,
   "metadata": {},
   "outputs": [
    {
     "name": "stdout",
     "output_type": "stream",
     "text": [
      "Northward_Drunk Max =8, Min = 0, Mean = 2.9\n",
      "Northward_Drunk Max =36, Min = 0, Mean = 9.777\n",
      "Northward_Drunk Max =116, Min = 3, Mean = 55.522\n",
      "Northward_Drunk Max =741, Min = 217, Mean = 503.359\n"
     ]
    }
   ],
   "source": [
    "drunk_test([10, 100, 1000, 10000], 1000, Northward_Drunk)"
   ]
  },
  {
   "cell_type": "markdown",
   "metadata": {},
   "source": [
    "##### Distances covered vs the Number of steps taken"
   ]
  },
  {
   "cell_type": "code",
   "execution_count": 417,
   "metadata": {},
   "outputs": [],
   "source": [
    "rand = drunk_test(list(range(0,10000,200)), 1000, Random_Drunk)\n",
    "north = drunk_test(list(range(0,10000,200)), 1000, Northward_Drunk)"
   ]
  },
  {
   "cell_type": "code",
   "execution_count": 420,
   "metadata": {},
   "outputs": [],
   "source": [
    "step_root = [x**0.5 for x in list(range(0,10000,200))]"
   ]
  },
  {
   "cell_type": "code",
   "execution_count": 421,
   "metadata": {},
   "outputs": [
    {
     "data": {
      "text/plain": [
       "[<matplotlib.lines.Line2D at 0x1ec68a88c70>]"
      ]
     },
     "execution_count": 421,
     "metadata": {},
     "output_type": "execute_result"
    },
    {
     "data": {
      "image/png": "[encoded data removed]",
      "text/plain": [
       "<Figure size 432x288 with 1 Axes>"
      ]
     },
     "metadata": {
      "needs_background": "light"
     },
     "output_type": "display_data"
    }
   ],
   "source": [
    "plt.plot(rand)\n",
    "#plt.plot(north)\n",
    "plt.plot(step_root)"
   ]
  },
  {
   "cell_type": "code",
   "execution_count": 454,
   "metadata": {},
   "outputs": [],
   "source": [
    "steps_5_perc = [0.05*x for x in list(range(0,10000,200))]"
   ]
  },
  {
   "cell_type": "code",
   "execution_count": 455,
   "metadata": {},
   "outputs": [
    {
     "data": {
      "text/plain": [
       "[<matplotlib.lines.Line2D at 0x1ec68ab93d0>]"
      ]
     },
     "execution_count": 455,
     "metadata": {},
     "output_type": "execute_result"
    },
    {
     "data": {
      "image/png": "[encoded data removed]",
      "text/plain": [
       "<Figure size 432x288 with 1 Axes>"
      ]
     },
     "metadata": {
      "needs_background": "light"
     },
     "output_type": "display_data"
    }
   ],
   "source": [
    "plt.plot(north)\n",
    "plt.plot(steps_5_perc)"
   ]
  },
  {
   "cell_type": "code",
   "execution_count": null,
   "metadata": {},
   "outputs": [],
   "source": []
  },
  {
   "cell_type": "code",
   "execution_count": null,
   "metadata": {},
   "outputs": [],
   "source": []
  },
  {
   "cell_type": "markdown",
   "metadata": {},
   "source": [
    "##### Distribution of final positions"
   ]
  },
  {
   "cell_type": "code",
   "execution_count": 428,
   "metadata": {},
   "outputs": [],
   "source": [
    "def random_walk_position(field, drunk, steps):\n",
    "    #returns location object. \n",
    "    #location class has method to get distance between location objects so we don't have to get x and y coordinates separately \n",
    "    for step in range(steps):\n",
    "        field.move_drunk(drunk)\n",
    "    \n",
    "    final_location = field.get_location(drunk)\n",
    "    \n",
    "    return final_location\n",
    "     "
   ]
  },
  {
   "cell_type": "code",
   "execution_count": 561,
   "metadata": {},
   "outputs": [],
   "source": [
    "def walk_simulation_position(steps, trials, drunk_class):\n",
    "    drunk = drunk_class()\n",
    "    origin = Location(0,0)\n",
    "    positions=[]\n",
    "    for trial in range(trials):\n",
    "        f = Field() #we can always create a new field for a new simulation so we don't need to specify a field in the arguments\n",
    "        f.add_drunk(drunk, origin)\n",
    "        position = random_walk_position(f, drunk, steps)\n",
    "        positions.append(position)\n",
    "    return positions"
   ]
  },
  {
   "cell_type": "code",
   "execution_count": 487,
   "metadata": {},
   "outputs": [],
   "source": [
    "p_rand = walk_simulation_position(10000, 1000, Random_Drunk)"
   ]
  },
  {
   "cell_type": "code",
   "execution_count": 488,
   "metadata": {},
   "outputs": [],
   "source": [
    "x_coordinates_rand = []\n",
    "y_coordinates_rand = []\n",
    "for location in p_rand:\n",
    "    x_coord = location.get_x()\n",
    "    y_coord = location.get_y()\n",
    "    \n",
    "    x_coordinates_rand.append(x_coord)\n",
    "    y_coordinates_rand.append(y_coord)"
   ]
  },
  {
   "cell_type": "code",
   "execution_count": 490,
   "metadata": {},
   "outputs": [],
   "source": [
    "p_north = walk_simulation_position(10000, 1000, Northward_Drunk)"
   ]
  },
  {
   "cell_type": "code",
   "execution_count": 491,
   "metadata": {},
   "outputs": [],
   "source": [
    "x_coordinates_north = []\n",
    "y_coordinates_north = []\n",
    "for location in p_north:\n",
    "    x_coord = location.get_x()\n",
    "    y_coord = location.get_y()\n",
    "    \n",
    "    x_coordinates_north.append(x_coord)\n",
    "    y_coordinates_north.append(y_coord)"
   ]
  },
  {
   "cell_type": "code",
   "execution_count": 498,
   "metadata": {},
   "outputs": [
    {
     "data": {
      "text/plain": [
       "<matplotlib.collections.PathCollection at 0x1ec68506850>"
      ]
     },
     "execution_count": 498,
     "metadata": {},
     "output_type": "execute_result"
    },
    {
     "data": {
      "image/png": "[encoded data removed]",
      "text/plain": [
       "<Figure size 720x720 with 1 Axes>"
      ]
     },
     "metadata": {
      "needs_background": "light"
     },
     "output_type": "display_data"
    }
   ],
   "source": [
    "plt.figure(figsize=(10,10))\n",
    "plt.scatter(x_coordinates_rand, y_coordinates_rand, c='r', marker='+')\n",
    "plt.scatter(x_coordinates_north, y_coordinates_north, c='b', marker = '^')"
   ]
  },
  {
   "cell_type": "code",
   "execution_count": 469,
   "metadata": {},
   "outputs": [
    {
     "data": {
      "text/plain": [
       "-0.07"
      ]
     },
     "execution_count": 469,
     "metadata": {},
     "output_type": "execute_result"
    }
   ],
   "source": [
    "sum(x_coordinates_rand)/len(x_coordinates_rand)"
   ]
  },
  {
   "cell_type": "code",
   "execution_count": 474,
   "metadata": {},
   "outputs": [
    {
     "data": {
      "text/plain": [
       "0.098"
      ]
     },
     "execution_count": 474,
     "metadata": {},
     "output_type": "execute_result"
    }
   ],
   "source": [
    "sum(y_coordinates_rand)/len(y_coordinates_rand)"
   ]
  },
  {
   "cell_type": "code",
   "execution_count": 475,
   "metadata": {},
   "outputs": [
    {
     "data": {
      "text/plain": [
       "0.159"
      ]
     },
     "execution_count": 475,
     "metadata": {},
     "output_type": "execute_result"
    }
   ],
   "source": [
    "sum(x_coordinates_north)/len(x_coordinates_north)"
   ]
  },
  {
   "cell_type": "code",
   "execution_count": 476,
   "metadata": {},
   "outputs": [
    {
     "data": {
      "text/plain": [
       "4.663499999999997"
      ]
     },
     "execution_count": 476,
     "metadata": {},
     "output_type": "execute_result"
    }
   ],
   "source": [
    "sum(y_coordinates_north)/len(y_coordinates_north)"
   ]
  },
  {
   "cell_type": "markdown",
   "metadata": {},
   "source": [
    "The means of x and y corrdinates are almost zero and visually the data is centered around zero, as it should be. The higher the number of steps, the more will be the spread of the data.\n",
    "In the northward drunk simulation, the bias is in the Northward direction."
   ]
  },
  {
   "cell_type": "markdown",
   "metadata": {},
   "source": [
    "### Field with Wormholes"
   ]
  },
  {
   "cell_type": "code",
   "execution_count": 557,
   "metadata": {},
   "outputs": [],
   "source": [
    "class Odd_Field(Field):\n",
    "    def __init__(self, holes = 5, x_range = 100, y_range = 100):\n",
    "        #as we will initialise the odd field we need to create a Field as well to create the self.drunks dict\n",
    "        Field.__init__(self) \n",
    "        self.wormholes = {}\n",
    "        for hole in range(holes):\n",
    "            x = random.randint(-x_range, x_range)\n",
    "            y = random.randint(-y_range, y_range)\n",
    "            \n",
    "            new_x = random.randint(-x_range, x_range)\n",
    "            new_y = random.randint(-y_range, y_range)\n",
    "            \n",
    "            new_loc = Location(new_x, new_y)\n",
    "            self.wormholes[(x,y)] = new_loc\n",
    "    \n",
    "    def move_drunk(self, drunk):\n",
    "        Field.move_drunk(self, drunk) \n",
    "        x = self.drunks[drunk].get_x()\n",
    "        y = self.drunks[drunk].get_y()\n",
    "        \n",
    "        if (x,y) in self.wormholes:\n",
    "            self.drunks[drunk] = self.wormholes[(x,y)]"
   ]
  },
  {
   "cell_type": "markdown",
   "metadata": {},
   "source": [
    "The function walk_simulation is changed to include Odd Field below"
   ]
  },
  {
   "cell_type": "code",
   "execution_count": 587,
   "metadata": {},
   "outputs": [],
   "source": [
    "def walk_simulation_position(steps, trials, drunk_class):\n",
    "    drunk = drunk_class()\n",
    "    origin = Location(0,0)\n",
    "    positions=[]\n",
    "    for trial in range(trials):\n",
    "        f = Odd_Field() #odd field instead of normal field\n",
    "        f.add_drunk(drunk, origin)\n",
    "        position = random_walk_position(f, drunk, steps)\n",
    "        positions.append(position)\n",
    "    return positions"
   ]
  },
  {
   "cell_type": "code",
   "execution_count": 588,
   "metadata": {},
   "outputs": [],
   "source": [
    "p_odd = walk_simulation_position(500, 1000, Random_Drunk)"
   ]
  },
  {
   "cell_type": "code",
   "execution_count": 589,
   "metadata": {},
   "outputs": [],
   "source": [
    "x_coordinates_odd= []\n",
    "y_coordinates_odd = []\n",
    "for location in p_odd:\n",
    "    x_coord = location.get_x()\n",
    "    y_coord = location.get_y()\n",
    "    \n",
    "    x_coordinates_odd.append(x_coord)\n",
    "    y_coordinates_odd.append(y_coord)"
   ]
  },
  {
   "cell_type": "markdown",
   "metadata": {},
   "source": [
    "Normal function is initialised below again"
   ]
  },
  {
   "cell_type": "code",
   "execution_count": 590,
   "metadata": {},
   "outputs": [],
   "source": [
    "def walk_simulation_position(steps, trials, drunk_class):\n",
    "    drunk = drunk_class()\n",
    "    origin = Location(0,0)\n",
    "    positions=[]\n",
    "    for trial in range(trials):\n",
    "        f = Field() #we can always create a new field for a new simulation so we don't need to specify a field in the arguments\n",
    "        f.add_drunk(drunk, origin)\n",
    "        position = random_walk_position(f, drunk, steps)\n",
    "        positions.append(position)\n",
    "    return positions"
   ]
  },
  {
   "cell_type": "code",
   "execution_count": 592,
   "metadata": {},
   "outputs": [],
   "source": [
    "p_norm = walk_simulation_position(500, 1000, Random_Drunk)\n",
    "x_coordinates_norm= []\n",
    "y_coordinates_norm = []\n",
    "for location in p_norm:\n",
    "    x_coord = location.get_x()\n",
    "    y_coord = location.get_y()\n",
    "    \n",
    "    x_coordinates_norm.append(x_coord)\n",
    "    y_coordinates_norm.append(y_coord)"
   ]
  },
  {
   "cell_type": "code",
   "execution_count": 593,
   "metadata": {},
   "outputs": [
    {
     "data": {
      "text/plain": [
       "<matplotlib.collections.PathCollection at 0x1ec6cbbf040>"
      ]
     },
     "execution_count": 593,
     "metadata": {},
     "output_type": "execute_result"
    },
    {
     "data": {
      "image/png": "[encoded data removed]",
      "text/plain": [
       "<Figure size 1440x1440 with 1 Axes>"
      ]
     },
     "metadata": {
      "needs_background": "light"
     },
     "output_type": "display_data"
    }
   ],
   "source": [
    "plt.figure(figsize=(20,20))\n",
    "plt.scatter(x_coordinates_odd, y_coordinates_odd, c='b')\n",
    "plt.scatter(x_coordinates_norm, y_coordinates_norm, c='r')"
   ]
  },
  {
   "cell_type": "code",
   "execution_count": null,
   "metadata": {},
   "outputs": [],
   "source": []
  }
 ],
 "metadata": {
  "kernelspec": {
   "display_name": "Python 3",
   "language": "python",
   "name": "python3"
  },
  "language_info": {
   "codemirror_mode": {
    "name": "ipython",
    "version": 3
   },
   "file_extension": ".py",
   "mimetype": "text/x-python",
   "name": "python",
   "nbconvert_exporter": "python",
   "pygments_lexer": "ipython3",
   "version": "3.8.3"
  }
 },
 "nbformat": 4,
 "nbformat_minor": 4
}
