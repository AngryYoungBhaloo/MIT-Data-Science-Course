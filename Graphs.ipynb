{
 "cells": [
  {
   "cell_type": "code",
   "execution_count": 18,
   "metadata": {},
   "outputs": [],
   "source": [
    "class Node(object):\n",
    "    def __init__(self, name):\n",
    "        self.name = name\n",
    "    def get_name(self):\n",
    "        return self.name\n",
    "    def __str__(self):\n",
    "        return self.name"
   ]
  },
  {
   "cell_type": "code",
   "execution_count": null,
   "metadata": {},
   "outputs": [],
   "source": []
  },
  {
   "cell_type": "code",
   "execution_count": 19,
   "metadata": {},
   "outputs": [],
   "source": [
    "class Edge(object):\n",
    "    def __init__(self, src, dest):\n",
    "        # src and dest are node objects\n",
    "        self.source = src\n",
    "        self.destination = dest\n",
    "    def get_source(self):\n",
    "        return self.source\n",
    "    def get_destination(self):\n",
    "        return self.destination\n",
    "    def __str__(self):\n",
    "        return self.source.get_name() + '->' + self.destination.get_name()"
   ]
  },
  {
   "cell_type": "code",
   "execution_count": null,
   "metadata": {},
   "outputs": [],
   "source": []
  },
  {
   "cell_type": "markdown",
   "metadata": {},
   "source": [
    "Adjacency list is created to represent the graph. Here we put a list of destinations for every node."
   ]
  },
  {
   "cell_type": "code",
   "execution_count": 47,
   "metadata": {},
   "outputs": [],
   "source": [
    "class Digraph(object):\n",
    "    def __init__(self):\n",
    "        self.edges = {}\n",
    "    \n",
    "    def add_node(self, node): #all the nodes must be added first before adding any edges\n",
    "        if node in self.edges:\n",
    "            raise ValueError(\"Node already present\")\n",
    "        else:\n",
    "            self.edges[node] = []\n",
    "    \n",
    "    def add_edge(self, edge):\n",
    "        source = edge.get_source()\n",
    "        destination = edge.get_destination()\n",
    "        if source in self.edges and destination in self.edges: #self.edges is the graph dictionary\n",
    "            self.edges[source].append(destination) #self.edges[source] is a list and destination gets appended to it\n",
    "        else:\n",
    "            raise ValueError(\"Node is not in graph\")\n",
    "            \n",
    "    def children_of_node(self, node):\n",
    "        return self.edges[node]\n",
    "    \n",
    "    def node_present(self, node):\n",
    "        return node in self.edges\n",
    "    \n",
    "    def get_node(self, name):\n",
    "        for node in self.edges:\n",
    "            if node.get_name() == name:\n",
    "                return node\n",
    "        raise NameError(name)\n",
    "    \n",
    "    def __str__(self):\n",
    "        result = ''\n",
    "        for source in self.edges:\n",
    "            for destination in self.edges[source]:\n",
    "                result = result + source.get_name() + '->' + destination.get_name() + '\\n'\n",
    "        return result[:-1]"
   ]
  },
  {
   "cell_type": "code",
   "execution_count": null,
   "metadata": {},
   "outputs": [],
   "source": []
  },
  {
   "cell_type": "markdown",
   "metadata": {},
   "source": [
    "##### For graphs which can have edges going in both directions"
   ]
  },
  {
   "cell_type": "code",
   "execution_count": 40,
   "metadata": {},
   "outputs": [],
   "source": [
    "class Graph(Digraph):\n",
    "    def add_edge(self, edge): #edge is an edge object\n",
    "        Digraph.add_edge(self, edge)\n",
    "        rev = Edge(edge.get_destination(), edge.get_source()) #edge object with destination as source and vice versa\n",
    "        Digraph.add_edge(self, rev)"
   ]
  },
  {
   "cell_type": "code",
   "execution_count": null,
   "metadata": {},
   "outputs": [],
   "source": []
  },
  {
   "cell_type": "markdown",
   "metadata": {},
   "source": [
    "### Making a Graph"
   ]
  },
  {
   "cell_type": "code",
   "execution_count": 41,
   "metadata": {},
   "outputs": [],
   "source": [
    "def make_city_graph(graphtype):\n",
    "    cities = ['Boston', 'Providence', 'New York', 'Chicago', 'Denver', 'Los Angeles', 'Phoenix']\n",
    "    city_graph = graphtype()\n",
    "    for city in cities:\n",
    "        city_graph.add_node(Node(city))\n",
    "        \n",
    "    city_graph.add_edge(Edge(city_graph.get_node('Boston'), city_graph.get_node('Providence')))\n",
    "    city_graph.add_edge(Edge(city_graph.get_node('Boston'), city_graph.get_node('New York')))\n",
    "    city_graph.add_edge(Edge(city_graph.get_node('Providence'), city_graph.get_node('Boston')))\n",
    "    city_graph.add_edge(Edge(city_graph.get_node('Providence'), city_graph.get_node('New York')))\n",
    "    city_graph.add_edge(Edge(city_graph.get_node('New York'), city_graph.get_node('Chicago')))\n",
    "    city_graph.add_edge(Edge(city_graph.get_node('Chicago'), city_graph.get_node('Denver')))\n",
    "    city_graph.add_edge(Edge(city_graph.get_node('Chicago'), city_graph.get_node('Phoenix')))\n",
    "    city_graph.add_edge(Edge(city_graph.get_node('Denver'), city_graph.get_node('Phoenix')))\n",
    "    city_graph.add_edge(Edge(city_graph.get_node('Denver'), city_graph.get_node('New York')))\n",
    "    city_graph.add_edge(Edge(city_graph.get_node('Los Angeles'), city_graph.get_node('Boston')))\n",
    "    return city_graph"
   ]
  },
  {
   "cell_type": "code",
   "execution_count": 50,
   "metadata": {},
   "outputs": [],
   "source": [
    "city_graph = make_city_graph(Digraph)"
   ]
  },
  {
   "cell_type": "code",
   "execution_count": 67,
   "metadata": {},
   "outputs": [
    {
     "name": "stdout",
     "output_type": "stream",
     "text": [
      "Boston->Providence\n",
      "Boston->New York\n",
      "Providence->Boston\n",
      "Providence->New York\n",
      "New York->Chicago\n",
      "Chicago->Denver\n",
      "Chicago->Phoenix\n",
      "Denver->Phoenix\n",
      "Denver->New York\n",
      "Los Angeles->Boston\n"
     ]
    }
   ],
   "source": [
    "print(city_graph)"
   ]
  },
  {
   "cell_type": "markdown",
   "metadata": {},
   "source": [
    "## Shortest Path in a Graph"
   ]
  },
  {
   "cell_type": "markdown",
   "metadata": {},
   "source": [
    "### Depth First Search"
   ]
  },
  {
   "cell_type": "code",
   "execution_count": 154,
   "metadata": {},
   "outputs": [],
   "source": [
    "def depth_first_search(graph, start, end, previous_path=[], shortest_path= None):\n",
    "    previous_path = previous_path + [start] \n",
    "    if start == end:\n",
    "        return previous_path #if the loop has reached the end then this path must be the best\n",
    "    for city in graph.children_of_node(start): #start should be a node object\n",
    "        if city not in previous_path: #to avoid loops \n",
    "            if shortest_path == None or len(previous_path) < len(shortest_path):\n",
    "                new_path = depth_first_search(graph, city, end, previous_path, shortest_path)\n",
    "                if new_path != None: #Cannot initialise shortest path with [] because it has to be none\n",
    "                    shortest_path = new_path\n",
    "    return shortest_path"
   ]
  },
  {
   "cell_type": "code",
   "execution_count": 135,
   "metadata": {},
   "outputs": [],
   "source": [
    "def print_path(path):\n",
    "    for node in path:\n",
    "        print(node.get_name() + '->')"
   ]
  },
  {
   "cell_type": "markdown",
   "metadata": {},
   "source": [
    "Shortest path is an empty list in the beginning so when the function reaches a node which goes out to nowhere, the for City in graph loop is skipped and shortest_path is returned. The first time it happens will be [] but subsequently it will become a known list.\n",
    "\n",
    "\n",
    "The if statement checks if the len of previous path is greater than the shortest path so the function does not return any path if the len of the previous path is greater than the shortest path because we know that such a path cannot be the answer."
   ]
  },
  {
   "cell_type": "code",
   "execution_count": 136,
   "metadata": {},
   "outputs": [],
   "source": [
    "path = depth_first_search(city_graph, city_graph.get_node(\"Boston\"), city_graph.get_node(\"Phoenix\"), previous_path=[], shortest_path=None)"
   ]
  },
  {
   "cell_type": "code",
   "execution_count": 137,
   "metadata": {},
   "outputs": [
    {
     "name": "stdout",
     "output_type": "stream",
     "text": [
      "Boston->\n",
      "New York->\n",
      "Chicago->\n",
      "Phoenix->\n"
     ]
    }
   ],
   "source": [
    "print_path(path)"
   ]
  },
  {
   "cell_type": "code",
   "execution_count": null,
   "metadata": {},
   "outputs": [],
   "source": []
  },
  {
   "cell_type": "markdown",
   "metadata": {},
   "source": [
    "### Breadth First Search"
   ]
  },
  {
   "cell_type": "code",
   "execution_count": 145,
   "metadata": {},
   "outputs": [],
   "source": [
    "def breadth_first_search(graph, start, end):\n",
    "    init_path = [start] #add node to a list\n",
    "    path_queue = [init_path] #add path to the list\n",
    "    \n",
    "    \n",
    "    while len(path_queue) != 0:\n",
    "        temp_path = path_queue.pop(0) #first path out of all the paths in the queue\n",
    "        #we only check the last element below and as we go ahead from the last node, we only care about it\n",
    "        last_node = temp_path[-1]\n",
    "        if last_node == end:\n",
    "            return temp_path\n",
    "        for next_node in graph.children_of_node(last_node): #we search the children of the next node\n",
    "            if next_node not in temp_path:\n",
    "                #the previous nodes are stored in temp_path and now we add the next node. we only care for the last node in the\n",
    "                #path so its fine\n",
    "                new_path = temp_path + [next_node] \n",
    "                path_queue.append(new_path) #list we're looping on is being added elements to\n",
    "                \n",
    "    return none\n"
   ]
  },
  {
   "cell_type": "markdown",
   "metadata": {},
   "source": [
    "If in a list we put a while loop which runs till its length isn't zero and then in the loop we reduce the list's length by one, we sort of have a loop of a new kind. Here we can add elements to the list we are iterating on."
   ]
  },
  {
   "cell_type": "code",
   "execution_count": 146,
   "metadata": {},
   "outputs": [],
   "source": [
    "bfs_path = breadth_first_search(city_graph, city_graph.get_node('Boston'), city_graph.get_node('Phoenix'))"
   ]
  },
  {
   "cell_type": "code",
   "execution_count": 147,
   "metadata": {},
   "outputs": [
    {
     "name": "stdout",
     "output_type": "stream",
     "text": [
      "Boston->\n",
      "New York->\n",
      "Chicago->\n",
      "Phoenix->\n"
     ]
    }
   ],
   "source": [
    "print_path(bfs_path)"
   ]
  },
  {
   "cell_type": "markdown",
   "metadata": {},
   "source": [
    "### Weighted Graph Problem"
   ]
  },
  {
   "cell_type": "markdown",
   "metadata": {},
   "source": [
    "The edge class can be modified to add weights for the edges"
   ]
  },
  {
   "cell_type": "code",
   "execution_count": 178,
   "metadata": {},
   "outputs": [],
   "source": [
    "class Edge(object):\n",
    "    def __init__(self, src, dest, weight):\n",
    "        # src and dest are node objects\n",
    "        self.source = src\n",
    "        self.destination = dest\n",
    "        self.weight = weight\n",
    "    def get_source(self):\n",
    "        return self.source\n",
    "    def get_destination(self):\n",
    "        return self.destination\n",
    "    def get_weight(self):\n",
    "        return self.weight\n",
    "    def __str__(self):\n",
    "        return self.source.get_name() + '->' + self.destination.get_name()"
   ]
  },
  {
   "cell_type": "markdown",
   "metadata": {},
   "source": [
    "Digraph class is also modified below"
   ]
  },
  {
   "cell_type": "code",
   "execution_count": 192,
   "metadata": {},
   "outputs": [],
   "source": [
    "class Digraph(object):\n",
    "    def __init__(self):\n",
    "        self.edges = {}\n",
    "    \n",
    "    def add_node(self, node): #all the nodes must be added first before adding any edges\n",
    "        if node in self.edges:\n",
    "            raise ValueError(\"Node already present\")\n",
    "        else:\n",
    "            self.edges[node] = []\n",
    "    \n",
    "    def add_edge(self, edge):\n",
    "        source = edge.get_source()\n",
    "        destination = edge.get_destination()\n",
    "        weight = edge.get_weight()\n",
    "        if source in self.edges and destination in self.edges: #self.edges is the graph dictionary\n",
    "            self.edges[source].append([destination, weight]) #the destination and weight are made into a list and added\n",
    "        else:\n",
    "            raise ValueError(\"Node is not in graph\")\n",
    "            \n",
    "    def children_of_node(self, node):\n",
    "        return self.edges[node]\n",
    "    \n",
    "    def node_present(self, node):\n",
    "        return node in self.edges\n",
    "    \n",
    "    def get_node(self, name):\n",
    "        for node in self.edges:\n",
    "            if node.get_name() == name:\n",
    "                return node\n",
    "        raise NameError(name)\n",
    "    \n",
    "    def __str__(self):\n",
    "        result = ''\n",
    "        for source in self.edges:\n",
    "            for [destination, weight] in self.edges[source]:\n",
    "                result = result + source.get_name() + '->' + destination.get_name() + '\\n'\n",
    "        return result[:-1]"
   ]
  },
  {
   "cell_type": "markdown",
   "metadata": {},
   "source": [
    "The graph can be made now with the weights"
   ]
  },
  {
   "cell_type": "code",
   "execution_count": 256,
   "metadata": {},
   "outputs": [],
   "source": [
    "def make_city_graph(graphtype):\n",
    "    cities = ['Boston', 'Providence', 'New York', 'Chicago', 'Denver', 'Los Angeles', 'Phoenix']\n",
    "    city_graph = graphtype()\n",
    "    for city in cities:\n",
    "        city_graph.add_node(Node(city))\n",
    "        \n",
    "    city_graph.add_edge(Edge(city_graph.get_node('Boston'), city_graph.get_node('Providence'), 0))\n",
    "    city_graph.add_edge(Edge(city_graph.get_node('Boston'), city_graph.get_node('New York'), 10))\n",
    "    city_graph.add_edge(Edge(city_graph.get_node('Providence'), city_graph.get_node('Boston'), 10))\n",
    "    city_graph.add_edge(Edge(city_graph.get_node('Providence'), city_graph.get_node('New York'), 2))\n",
    "    city_graph.add_edge(Edge(city_graph.get_node('New York'), city_graph.get_node('Chicago'), 1))\n",
    "    city_graph.add_edge(Edge(city_graph.get_node('Chicago'), city_graph.get_node('Denver'), 1))\n",
    "    city_graph.add_edge(Edge(city_graph.get_node('Chicago'), city_graph.get_node('Phoenix'), 10))\n",
    "    city_graph.add_edge(Edge(city_graph.get_node('Denver'), city_graph.get_node('Phoenix'), 1))\n",
    "    city_graph.add_edge(Edge(city_graph.get_node('Denver'), city_graph.get_node('New York'), 10))\n",
    "    city_graph.add_edge(Edge(city_graph.get_node('Los Angeles'), city_graph.get_node('Boston'), 10))\n",
    "    return city_graph"
   ]
  },
  {
   "cell_type": "code",
   "execution_count": 257,
   "metadata": {},
   "outputs": [],
   "source": [
    "weighted_city_graph = make_city_graph(Digraph)"
   ]
  },
  {
   "cell_type": "code",
   "execution_count": 258,
   "metadata": {},
   "outputs": [
    {
     "name": "stdout",
     "output_type": "stream",
     "text": [
      "Boston->Providence\n",
      "Boston->New York\n",
      "Providence->Boston\n",
      "Providence->New York\n",
      "New York->Chicago\n",
      "Chicago->Denver\n",
      "Chicago->Phoenix\n",
      "Denver->Phoenix\n",
      "Denver->New York\n",
      "Los Angeles->Boston\n"
     ]
    }
   ],
   "source": [
    "print(weighted_city_graph)"
   ]
  },
  {
   "cell_type": "code",
   "execution_count": 222,
   "metadata": {},
   "outputs": [
    {
     "data": {
      "text/plain": [
       "{'Boston': [['Providence', 10], ['New York', 1]],\n",
       " 'Providence': [['Boston', 10], ['New York', 10]],\n",
       " 'New York': [['Chicago', 1]],\n",
       " 'Chicago': [['Denver', 1], ['Phoenix', 10]],\n",
       " 'Denver': [['Phoenix', 1], ['New York', 10]],\n",
       " 'Los Angeles': [['Boston', 10]]}"
      ]
     },
     "execution_count": 222,
     "metadata": {},
     "output_type": "execute_result"
    }
   ],
   "source": [
    "{'Boston':[['Providence', 10], ['New York',1]], 'Providence': [['Boston', 10],['New York',10]], 'New York':[['Chicago', 1]], 'Chicago': [['Denver', 1], ['Phoenix', 10]], 'Denver': [['Phoenix', 1],['New York',10]], 'Los Angeles':[['Boston',10]]}"
   ]
  },
  {
   "cell_type": "markdown",
   "metadata": {},
   "source": [
    "Weighted Depth First Search"
   ]
  },
  {
   "cell_type": "code",
   "execution_count": 259,
   "metadata": {},
   "outputs": [],
   "source": [
    "def depth_first_search(graph, start, end, previous_path=[], shortest_path= None):\n",
    "    previous_path = previous_path + [start] \n",
    "    if start == end:\n",
    "        return previous_path #if the loop has reached the end then this path must be the best\n",
    "    for city in graph.children_of_node(start): #start should be a node object\n",
    "        if city not in previous_path: #to avoid loops \n",
    "            if shortest_path == None or len(previous_path) < len(shortest_path):\n",
    "                new_path = depth_first_search(graph, city, end, previous_path, shortest_path)\n",
    "                if new_path != None: #Cannot initialise shortest path with [] because it has to be none\n",
    "                    shortest_path = new_path\n",
    "    return shortest_path"
   ]
  },
  {
   "cell_type": "code",
   "execution_count": 260,
   "metadata": {},
   "outputs": [],
   "source": [
    "def weighted_dfs(graph, start, end, previous_path= [], weights = [], best_path = None, best_path_weights=[], toPrint = False):\n",
    "    previous_path = previous_path + [start]\n",
    "    if start == end:\n",
    "        return previous_path, weights\n",
    "    for [node, weight] in graph.children_of_node(start):\n",
    "        if node not in previous_path:\n",
    "            weights = weights + [weight]\n",
    "            if best_path == None or sum(weights) < sum(best_path_weights):\n",
    "                new_path, new_weights = weighted_dfs(graph, node, end, previous_path, weights, best_path, best_path_weights)\n",
    "                if new_path != None:\n",
    "                    best_path = new_path\n",
    "                    best_path_weights = new_weights\n",
    "    return best_path, best_path_weights"
   ]
  },
  {
   "cell_type": "markdown",
   "metadata": {},
   "source": [
    "When we reach the end of a branch, the for loop gets skipped and the best_path and best_path_weights get returned and become new_path and new_weights respectively. As new_value is not equal to None, these values get stored as best_path and best_path_weights. Next time when we go to the for loop to explore another path to the destination, the condition sum(weights)<sum(best_path_weights) makes sure that we only follow paths which have weights less than our path."
   ]
  },
  {
   "cell_type": "code",
   "execution_count": 261,
   "metadata": {},
   "outputs": [],
   "source": [
    "boston_node = weighted_city_graph.get_node('Boston')\n",
    "phoenix_node = weighted_city_graph.get_node('Phoenix')"
   ]
  },
  {
   "cell_type": "code",
   "execution_count": 262,
   "metadata": {},
   "outputs": [],
   "source": [
    "weighted_path, weights = weighted_dfs(weighted_city_graph, boston_node, phoenix_node, previous_path=[], weights=[], best_path=None, best_path_weights=[])"
   ]
  },
  {
   "cell_type": "code",
   "execution_count": 263,
   "metadata": {},
   "outputs": [
    {
     "name": "stdout",
     "output_type": "stream",
     "text": [
      "Boston->\n",
      "Providence->\n",
      "New York->\n",
      "Chicago->\n",
      "Denver->\n",
      "Phoenix->\n"
     ]
    }
   ],
   "source": [
    "print_path(weighted_path)"
   ]
  }
 ],
 "metadata": {
  "kernelspec": {
   "display_name": "Python 3",
   "language": "python",
   "name": "python3"
  },
  "language_info": {
   "codemirror_mode": {
    "name": "ipython",
    "version": 3
   },
   "file_extension": ".py",
   "mimetype": "text/x-python",
   "name": "python",
   "nbconvert_exporter": "python",
   "pygments_lexer": "ipython3",
   "version": "3.8.3"
  }
 },
 "nbformat": 4,
 "nbformat_minor": 4
}
